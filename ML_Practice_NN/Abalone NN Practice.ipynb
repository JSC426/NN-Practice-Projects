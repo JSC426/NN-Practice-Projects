{
 "cells": [
  {
   "cell_type": "code",
   "execution_count": 24,
   "id": "067de0f8-286f-495b-8212-373ced6b2a67",
   "metadata": {
    "tags": []
   },
   "outputs": [],
   "source": [
    "# from IPython.display import Image\n",
    "from IPython.display import SVG\n",
    "import numpy as np\n",
    "import pandas as pd\n",
    "from sklearn.model_selection import train_test_split\n",
    "from sklearn.preprocessing import LabelEncoder, StandardScaler\n",
    "from tensorflow.keras.models import Sequential\n",
    "from sklearn.metrics import mean_squared_error\n",
    "from tensorflow.keras.layers import Dense\n",
    "from tensorflow.keras.utils import plot_model, model_to_dot\n",
    "from tensorflow.keras.layers import Dropout\n",
    "import visualkeras\n",
    "\n",
    "df = pd.read_csv('Data/abalone.csv')"
   ]
  },
  {
   "cell_type": "code",
   "execution_count": 25,
   "id": "8bf19446-6403-41d7-9020-24160d81c96b",
   "metadata": {
    "tags": []
   },
   "outputs": [],
   "source": [
    "# Label encoding for the categorical feature\n",
    "le = LabelEncoder()\n",
    "df['Type'] = le.fit_transform(df['Type'])\n",
    "\n",
    "# Separating the features and target variable\n",
    "features = df.drop('Rings', axis=1)\n",
    "target = df['Rings']\n",
    "\n",
    "sc = StandardScaler()\n",
    "features = sc.fit_transform(features)"
   ]
  },
  {
   "cell_type": "code",
   "execution_count": 26,
   "id": "01f0c614-06b5-478d-b2fd-6646b884286e",
   "metadata": {
    "tags": []
   },
   "outputs": [],
   "source": [
    "# Split the dataset into the training set and test set\n",
    "# We're splitting the data in 1/3, so out of 30 records, 10 records will go into the test set,\n",
    "# and 20 records will go into the training set.\n",
    "x_train, x_test, y_train, y_test = train_test_split(features, target, test_size=0.33, random_state=0)"
   ]
  },
  {
   "cell_type": "code",
   "execution_count": 136,
   "id": "0ba4969f-813a-437b-b7a9-7ec0be0702e1",
   "metadata": {
    "tags": []
   },
   "outputs": [
    {
     "data": {
      "image/png": "[encoded data removed]",
      "text/plain": [
       "<PIL.Image.Image image mode=RGBA size=167x63 at 0x7FF3209D7430>"
      ]
     },
     "execution_count": 136,
     "metadata": {},
     "output_type": "execute_result"
    }
   ],
   "source": [
    "# Initialising the Neural Network\n",
    "model = Sequential()\n",
    "\n",
    "# Adding the input layer and the first hidden layer\n",
    "model.add(Dense(units=20, activation='relu', input_dim=x_train.shape[1]))\n",
    "model.add(Dense(units=20, activation='relu', input_dim=x_train.shape[1]))\n",
    "# Dropout\n",
    "model.add(Dropout(0.2))\n",
    "\n",
    "# Add another hidden layer\n",
    "model.add(Dense(units=5, activation='linear'))\n",
    "\n",
    "# Dropout\n",
    "#model.add(Dropout(0.2))\n",
    "\n",
    "# Adding the output layer\n",
    "model.add(Dense(units=1))\n",
    "\n",
    "\n",
    "# Compiling the Neural Network\n",
    "model.compile(optimizer='adam', loss='mean_squared_error')\n",
    "\n",
    "# Plot\n",
    "#plot_model(model, to_file='model.png', show_shapes=True, show_layer_names=True)\n",
    "#SVG(model_to_dot(model, show_shapes=True, show_layer_names=True, dpi=60).create(prog='dot', format='svg'))\n",
    "# visualkeras.graph_view(model)\t\n",
    "visualkeras.layered_view(model, legend=True)\n",
    "\n",
    "\n",
    "\n",
    "# Display the image in jupyter\n",
    "#Image(filename='model.png')"
   ]
  },
  {
   "cell_type": "code",
   "execution_count": 137,
   "id": "5dfe9656-8618-4990-b3ef-d45372ffb16e",
   "metadata": {},
   "outputs": [
    {
     "name": "stdout",
     "output_type": "stream",
     "text": [
      "Epoch 1/50\n",
      "187/187 [==============================] - 0s 560us/step - loss: 88.7820\n",
      "Epoch 2/50\n",
      "187/187 [==============================] - 0s 539us/step - loss: 17.7026\n",
      "Epoch 3/50\n",
      "187/187 [==============================] - 0s 537us/step - loss: 7.9682\n",
      "Epoch 4/50\n",
      "187/187 [==============================] - 0s 549us/step - loss: 8.1736\n",
      "Epoch 5/50\n",
      "187/187 [==============================] - 0s 546us/step - loss: 8.2005\n",
      "Epoch 6/50\n",
      "187/187 [==============================] - 0s 553us/step - loss: 7.8660\n",
      "Epoch 7/50\n",
      "187/187 [==============================] - 0s 546us/step - loss: 7.5741\n",
      "Epoch 8/50\n",
      "187/187 [==============================] - 0s 555us/step - loss: 7.5627\n",
      "Epoch 9/50\n",
      "187/187 [==============================] - 0s 554us/step - loss: 7.5118\n",
      "Epoch 10/50\n",
      "187/187 [==============================] - 0s 625us/step - loss: 6.6474\n",
      "Epoch 11/50\n",
      "187/187 [==============================] - 0s 573us/step - loss: 6.6969\n",
      "Epoch 12/50\n",
      "187/187 [==============================] - 0s 539us/step - loss: 6.4266\n",
      "Epoch 13/50\n",
      "187/187 [==============================] - 0s 543us/step - loss: 6.8005\n",
      "Epoch 14/50\n",
      "187/187 [==============================] - 0s 556us/step - loss: 6.4635\n",
      "Epoch 15/50\n",
      "187/187 [==============================] - 0s 556us/step - loss: 6.1036\n",
      "Epoch 16/50\n",
      "187/187 [==============================] - 0s 548us/step - loss: 6.1416\n",
      "Epoch 17/50\n",
      "187/187 [==============================] - 0s 557us/step - loss: 6.3705\n",
      "Epoch 18/50\n",
      "187/187 [==============================] - 0s 555us/step - loss: 5.9616\n",
      "Epoch 19/50\n",
      "187/187 [==============================] - 0s 551us/step - loss: 5.8873\n",
      "Epoch 20/50\n",
      "187/187 [==============================] - 0s 554us/step - loss: 5.5615\n",
      "Epoch 21/50\n",
      "187/187 [==============================] - 0s 554us/step - loss: 5.8042\n",
      "Epoch 22/50\n",
      "187/187 [==============================] - 0s 639us/step - loss: 5.6361\n",
      "Epoch 23/50\n",
      "187/187 [==============================] - 0s 551us/step - loss: 5.3506\n",
      "Epoch 24/50\n",
      "187/187 [==============================] - 0s 555us/step - loss: 5.2152\n",
      "Epoch 25/50\n",
      "187/187 [==============================] - 0s 556us/step - loss: 5.5083\n",
      "Epoch 26/50\n",
      "187/187 [==============================] - 0s 568us/step - loss: 5.5138\n",
      "Epoch 27/50\n",
      "187/187 [==============================] - 0s 562us/step - loss: 5.5294\n",
      "Epoch 28/50\n",
      "187/187 [==============================] - 0s 570us/step - loss: 5.2931\n",
      "Epoch 29/50\n",
      "187/187 [==============================] - 0s 558us/step - loss: 5.4606\n",
      "Epoch 30/50\n",
      "187/187 [==============================] - 0s 572us/step - loss: 5.5677\n",
      "Epoch 31/50\n",
      "187/187 [==============================] - 0s 578us/step - loss: 5.3456\n",
      "Epoch 32/50\n",
      "187/187 [==============================] - 0s 557us/step - loss: 5.2549\n",
      "Epoch 33/50\n",
      "187/187 [==============================] - 0s 566us/step - loss: 5.9428\n",
      "Epoch 34/50\n",
      "187/187 [==============================] - 0s 572us/step - loss: 4.8089\n",
      "Epoch 35/50\n",
      "187/187 [==============================] - 0s 565us/step - loss: 4.7719\n",
      "Epoch 36/50\n",
      "187/187 [==============================] - 0s 569us/step - loss: 5.0364\n",
      "Epoch 37/50\n",
      "187/187 [==============================] - 0s 569us/step - loss: 5.1561\n",
      "Epoch 38/50\n",
      "187/187 [==============================] - 0s 570us/step - loss: 4.8683\n",
      "Epoch 39/50\n",
      "187/187 [==============================] - 0s 607us/step - loss: 4.6810\n",
      "Epoch 40/50\n",
      "187/187 [==============================] - 0s 559us/step - loss: 4.8007\n",
      "Epoch 41/50\n",
      "187/187 [==============================] - 0s 568us/step - loss: 4.6941\n",
      "Epoch 42/50\n",
      "187/187 [==============================] - 0s 561us/step - loss: 4.6735\n",
      "Epoch 43/50\n",
      "187/187 [==============================] - 0s 646us/step - loss: 5.0523\n",
      "Epoch 44/50\n",
      "187/187 [==============================] - 0s 565us/step - loss: 4.2521\n",
      "Epoch 45/50\n",
      "187/187 [==============================] - 0s 564us/step - loss: 4.8067\n",
      "Epoch 46/50\n",
      "187/187 [==============================] - 0s 566us/step - loss: 4.3183\n",
      "Epoch 47/50\n",
      "187/187 [==============================] - 0s 567us/step - loss: 4.5406\n",
      "Epoch 48/50\n",
      "187/187 [==============================] - 0s 560us/step - loss: 4.4520\n",
      "Epoch 49/50\n",
      "187/187 [==============================] - 0s 570us/step - loss: 4.3849\n",
      "Epoch 50/50\n",
      "187/187 [==============================] - 0s 565us/step - loss: 4.8263\n"
     ]
    },
    {
     "data": {
      "text/plain": [
       "<tensorflow.python.keras.callbacks.History at 0x7ff320cbd5e0>"
      ]
     },
     "execution_count": 137,
     "metadata": {},
     "output_type": "execute_result"
    }
   ],
   "source": [
    "# Train the model\n",
    "model.fit(x_train, y_train, batch_size=15, epochs=50)"
   ]
  },
  {
   "cell_type": "code",
   "execution_count": 138,
   "id": "2a0d7b3f-9217-4bc7-a729-f53de10bf1cb",
   "metadata": {
    "tags": []
   },
   "outputs": [
    {
     "name": "stdout",
     "output_type": "stream",
     "text": [
      "Train set RMSE: 2.0452685214395387\n",
      "Test set RMSE: 2.101447765881788\n"
     ]
    }
   ],
   "source": [
    "# Predicting on the training and test set\n",
    "y_train_pred = model.predict(x_train)\n",
    "y_test_pred = model.predict(x_test)\n",
    "\n",
    "# Evaluating the model\n",
    "print(\"Train set RMSE:\", np.sqrt(mean_squared_error(y_train, y_train_pred)))\n",
    "print(\"Test set RMSE:\", np.sqrt(mean_squared_error(y_test, y_test_pred)))"
   ]
  },
  {
   "cell_type": "code",
   "execution_count": null,
   "id": "cc05b1a8-b486-4dce-bfe4-4be97517690b",
   "metadata": {
    "tags": []
   },
   "outputs": [],
   "source": []
  },
  {
   "cell_type": "code",
   "execution_count": null,
   "id": "ad7845df-b811-4299-b32d-66e0c3626e8a",
   "metadata": {},
   "outputs": [],
   "source": []
  }
 ],
 "metadata": {
  "kernelspec": {
   "display_name": "base",
   "language": "python",
   "name": "base"
  },
  "language_info": {
   "codemirror_mode": {
    "name": "ipython",
    "version": 3
   },
   "file_extension": ".py",
   "mimetype": "text/x-python",
   "name": "python",
   "nbconvert_exporter": "python",
   "pygments_lexer": "ipython3",
   "version": "3.8.12"
  }
 },
 "nbformat": 4,
 "nbformat_minor": 5
}
